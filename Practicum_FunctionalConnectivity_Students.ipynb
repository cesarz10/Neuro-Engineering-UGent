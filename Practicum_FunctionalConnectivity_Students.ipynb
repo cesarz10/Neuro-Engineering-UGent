{
  "cells": [
    {
      "cell_type": "markdown",
      "metadata": {
        "id": "view-in-github",
        "colab_type": "text"
      },
      "source": [
        "<a href=\"https://colab.research.google.com/github/cesarz10/Neuro-Engineering-UGent/blob/main/Practicum_FunctionalConnectivity_Students.ipynb\" target=\"_parent\"><img src=\"https://colab.research.google.com/assets/colab-badge.svg\" alt=\"Open In Colab\"/></a>"
      ]
    },
    {
      "cell_type": "markdown",
      "id": "053f8771",
      "metadata": {
        "id": "053f8771"
      },
      "source": [
        "# Neuro-engineering science\n",
        "## Practical Session: Functional Connectivity\n",
        "***\n",
        "*prof. Pieter van Mierlo, Jolan Heyse, Gert Van Hollebeke, Emma Depuydt* <br>\n",
        "*Medical Image and Signal Processing (MEDISIP)* <br>\n",
        "*Ghent University Hospital, C. Heymanslaan 10, 9000 Gent, Belgium*"
      ]
    },
    {
      "cell_type": "markdown",
      "id": "2d297fe2",
      "metadata": {
        "id": "2d297fe2"
      },
      "source": [
        "<font color=blue>Student name(s) and ID(s): </font>"
      ]
    },
    {
      "cell_type": "markdown",
      "id": "a114b1df",
      "metadata": {
        "id": "a114b1df"
      },
      "source": [
        "### Practical info\n",
        "This practical session is about functional brain connectivity. Background documentation about this subject can be found in the course notes. The necessary files for the exercises can be downloaded from Ufora. We expect you to hand in the notebook with your code together with the figures via Ufora. The deadline for submission is ***7/12/2022 at 11.59pm***.\n",
        "\n",
        "### Goal of today\n",
        "The goal of this practical session is to gain better understanding on how functional connectivity measures are computed, and how they can be applied to analyse brain signals. At the end of the excercise, you will have gained hands-on experience in using these techniques to identify the onset zone of an epileptic seizure in real patient data.\n",
        "\n",
        "## Clinical context\n",
        "#### Epilepsy\n",
        "Epilepsy is a neurological disorder characterised by recurrent seizures. Epileptic seizures can be described as periods of abnormal brain activity that cause unusual behavior, sensations, and sometimes loss of awareness.\n",
        "\n",
        "The physical presentation of the seizures can vary greatly and patients may experience a set of symptoms. Some people with epilepsy simply stare blankly for a few seconds during a seizure, while others repeatedly twitch their arms or legs. Having a single seizure doesn't mean you have epilepsy. At least two unprovoked seizures are generally required for an epilepsy diagnosis.\n",
        "\n",
        "#### Electroencephalogram (EEG)\n",
        "Electroencephalography (EEG) is one of the essential tools in neurology and allows to measure electrical activity in your brain by placing electrodes on top of the scalp. Brain cells communicate via electrical impulses and are active all the time, even when you're asleep. This activity shows up as wavy lines on an EEG recording. EEG is one of the main diagnostic tests for epilepsy, but can also play a role in diagnosing and evaluating other brain disorders.\n",
        "\n",
        "#### EEG in epilepsy\n",
        "EEG is one of the cornerstone tests for diagnosing epilepsy. Epileptic seizures involve abnormal, hypersynchronous activity in the brain that create a distinct pattern in the EEG signals. However, even in the absence of a seizure epilepsy patients often have small, transient episodes of abnormal activity called 'spikes'. Presence of these epileptic spikes in the EEG signal is one of the hallmarks for diagnosing epilepsy.\n",
        "\n",
        "Identifying the brain region where epileptic activity originates is a non-trivial task and requires a lot of expertise of the neurologist. Functional connectivity can assist the medical expert, by providing an estimation of the brain network during the epileptic seizure. Based on the information flows the source of the epileptic network can be identified. In this practical session you will compute several connectivity measures and try to identify the seizure onset zone based on an intracranial EEG recording of a real patient."
      ]
    },
    {
      "cell_type": "markdown",
      "id": "c020b141",
      "metadata": {
        "id": "c020b141"
      },
      "source": [
        "***\n",
        "## Part 1/2: Simple brain network\n",
        "A patient has 3 depth electrodes implanted in the brain. Each depth electrode has 1 contact. The signals recorded from these 3 brain regions are given in sig_ex1.mat with a sampling rate (fs) of 200 Hz and length equal to 5s. You need to investigate how the regions communicate with each other by studying the functional connectivity between the signals.\n",
        "\n",
        "<img src='https://drive.google.com/uc?export=view&id=1D4zMx7g6dRaTyr0l0_e3LDNy--i2RTV3' style=\"width: 350px;\">\n",
        "\n",
        "\n",
        "Let's load the necessary modules and take a look at the signals."
      ]
    },
    {
      "cell_type": "code",
      "execution_count": 4,
      "id": "0942c993",
      "metadata": {
        "id": "0942c993",
        "scrolled": true
      },
      "outputs": [],
      "source": [
        "# Import PyDrive and associated libraries.\n",
        "# This only needs to be done once per notebook.\n",
        "from pydrive.auth import GoogleAuth\n",
        "from pydrive.drive import GoogleDrive\n",
        "from google.colab import auth\n",
        "from oauth2client.client import GoogleCredentials\n",
        "\n",
        "# Authenticate and create the PyDrive client.\n",
        "# This only needs to be done once per notebook.\n",
        "auth.authenticate_user()\n",
        "gauth = GoogleAuth()\n",
        "gauth.credentials = GoogleCredentials.get_application_default()\n",
        "googledrive = GoogleDrive(gauth)"
      ]
    },
    {
      "cell_type": "code",
      "execution_count": 3,
      "id": "b0ce07a6",
      "metadata": {
        "id": "b0ce07a6",
        "colab": {
          "base_uri": "https://localhost:8080/"
        },
        "outputId": "e7a6dd87-6dcc-4e35-cb08-99cb3ad4bc0b"
      },
      "outputs": [
        {
          "output_type": "stream",
          "name": "stdout",
          "text": [
            "Mounted at /content/drive\n"
          ]
        }
      ],
      "source": [
        "from google.colab import drive\n",
        "drive.mount('/content/drive')"
      ]
    },
    {
      "cell_type": "code",
      "execution_count": 5,
      "id": "a0709054",
      "metadata": {
        "id": "a0709054"
      },
      "outputs": [],
      "source": [
        "%%capture\n",
        "# Download a file based on its file ID.\n",
        "file_id = '1UjR4Vf1IFQafpZGfeSuVmVknC8ZWw1W4'\n",
        "\n",
        "download = googledrive.CreateFile({'id': file_id})\n",
        "download.GetContentFile('PracticalSession_EEGconnectivity.zip')\n",
        "!unzip 'PracticalSession_EEGconnectivity.zip'"
      ]
    },
    {
      "cell_type": "code",
      "execution_count": 7,
      "id": "627f9693",
      "metadata": {
        "id": "627f9693"
      },
      "outputs": [],
      "source": [
        "%%capture \n",
        "!pip install mne\n",
        "!pip install connectivipy"
      ]
    },
    {
      "cell_type": "code",
      "execution_count": 8,
      "id": "bda8f515",
      "metadata": {
        "id": "bda8f515"
      },
      "outputs": [],
      "source": [
        "%matplotlib inline\n",
        "\n",
        "import mne\n",
        "import numpy as np\n",
        "import matplotlib.pyplot as plt\n",
        "import connectivipy as cp\n",
        "from scipy.signal import coherence\n",
        "\n",
        "def plot_EEG(t, sig, labels=None):\n",
        "    n_sig = np.shape(sig)[1]\n",
        "    offset = np.linspace(3*n_sig, -3*n_sig, num=n_sig)\n",
        "    if labels is None:\n",
        "        labels = [f\"sig {i}\" for i in range (1, n_sig+1)]\n",
        "        \n",
        "    for i in range(n_sig):\n",
        "        x = sig[:,i]\n",
        "        # Normalize array\n",
        "        x -= np.mean(x)\n",
        "        x /= np.std(x)\n",
        "        # Plot array\n",
        "        plt.plot(t, sig[:,i]+offset[i], 'k', label=labels[i])\n",
        "        \n",
        "    plt.yticks(offset, labels)\n",
        "    plt.xlabel(\"Time (s)\")\n",
        "    plt.show()\n"
      ]
    },
    {
      "cell_type": "code",
      "execution_count": 28,
      "id": "35eeabb9",
      "metadata": {
        "id": "35eeabb9",
        "colab": {
          "base_uri": "https://localhost:8080/",
          "height": 792
        },
        "outputId": "dfd40f60-9e77-4d70-e63a-e84b78239d27"
      },
      "outputs": [
        {
          "output_type": "stream",
          "name": "stdout",
          "text": [
            "[0.    0.005 0.01  0.015 0.02  0.025 0.03  0.035 0.04  0.045 0.05  0.055\n",
            " 0.06  0.065 0.07  0.075 0.08  0.085 0.09  0.095 0.1   0.105 0.11  0.115\n",
            " 0.12  0.125 0.13  0.135 0.14  0.145 0.15  0.155 0.16  0.165 0.17  0.175\n",
            " 0.18  0.185 0.19  0.195 0.2   0.205 0.21  0.215 0.22  0.225 0.23  0.235\n",
            " 0.24  0.245 0.25  0.255 0.26  0.265 0.27  0.275 0.28  0.285 0.29  0.295\n",
            " 0.3   0.305 0.31  0.315 0.32  0.325 0.33  0.335 0.34  0.345 0.35  0.355\n",
            " 0.36  0.365 0.37  0.375 0.38  0.385 0.39  0.395 0.4   0.405 0.41  0.415\n",
            " 0.42  0.425 0.43  0.435 0.44  0.445 0.45  0.455 0.46  0.465 0.47  0.475\n",
            " 0.48  0.485 0.49  0.495 0.5   0.505 0.51  0.515 0.52  0.525 0.53  0.535\n",
            " 0.54  0.545 0.55  0.555 0.56  0.565 0.57  0.575 0.58  0.585 0.59  0.595\n",
            " 0.6   0.605 0.61  0.615 0.62  0.625 0.63  0.635 0.64  0.645 0.65  0.655\n",
            " 0.66  0.665 0.67  0.675 0.68  0.685 0.69  0.695 0.7   0.705 0.71  0.715\n",
            " 0.72  0.725 0.73  0.735 0.74  0.745 0.75  0.755 0.76  0.765 0.77  0.775\n",
            " 0.78  0.785 0.79  0.795 0.8   0.805 0.81  0.815 0.82  0.825 0.83  0.835\n",
            " 0.84  0.845 0.85  0.855 0.86  0.865 0.87  0.875 0.88  0.885 0.89  0.895\n",
            " 0.9   0.905 0.91  0.915 0.92  0.925 0.93  0.935 0.94  0.945 0.95  0.955\n",
            " 0.96  0.965 0.97  0.975 0.98  0.985 0.99  0.995 1.   ]\n"
          ]
        },
        {
          "output_type": "display_data",
          "data": {
            "text/plain": [
              "<Figure size 864x576 with 1 Axes>"
            ],
            "image/png": "[encoded data removed]"
          },
          "metadata": {
            "needs_background": "light"
          }
        }
      ],
      "source": [
        "# Load signals\n",
        "sig = np.loadtxt('sig_ex1.txt', delimiter=',')\n",
        "t = np.arange(0.0, 5.0, 1/200)\n",
        "\n",
        "# Plot EEG\n",
        "plt.figure(figsize=(12, 8))\n",
        "plot_EEG(t, sig)"
      ]
    },
    {
      "cell_type": "markdown",
      "id": "a1d1fec8",
      "metadata": {
        "id": "a1d1fec8"
      },
      "source": [
        "### Correlation\n",
        "Investigate the correlation between all pairs of signals. You can use the function [np.corrcoef(x,y)](https://numpy.org/doc/stable/reference/generated/numpy.corrcoef.html) to calculate the correlation between x and y."
      ]
    },
    {
      "cell_type": "markdown",
      "id": "897a6443",
      "metadata": {
        "id": "897a6443"
      },
      "source": [
        "<div class=\"alert alert-info\">\n",
        "\n",
        "**Question:** What can you conclude about the correlation between the signals?"
      ]
    },
    {
      "cell_type": "markdown",
      "id": "a72ac31e",
      "metadata": {
        "id": "a72ac31e"
      },
      "source": [
        "<div class=\"alert alert-success\">\n",
        "<span style=\"color:black\">\n",
        "\n",
        "**Answer:**\n",
        "\n",
        "Insert your answer here...\n",
        "    \n",
        "</span>"
      ]
    },
    {
      "cell_type": "code",
      "execution_count": 10,
      "id": "2d817aa2",
      "metadata": {
        "id": "2d817aa2",
        "colab": {
          "base_uri": "https://localhost:8080/"
        },
        "outputId": "7ac983ec-2135-44da-b353-7980d26c8d90"
      },
      "outputs": [
        {
          "output_type": "stream",
          "name": "stdout",
          "text": [
            "correlation 1-2: -0.012183\n",
            "correlation 1-3:  0.009815\n",
            "correlation 2-3:  0.026697\n"
          ]
        }
      ],
      "source": [
        "sig_1 = sig[:, 0]\n",
        "sig_2 = sig[:, 1]\n",
        "sig_3 = sig[:, 2]\n",
        "\n",
        "corrc_3sig = np.corrcoef([sig_1, sig_2, sig_3])\n",
        "\n",
        "print(f\"correlation 1-2: {round(corrc_3sig[0,1], 6)}\\ncorrelation 1-3:  {round(corrc_3sig[0,2], 6)}\\ncorrelation 2-3:  {round(corrc_3sig[1,2], 6)}\")"
      ]
    },
    {
      "cell_type": "markdown",
      "id": "4e2c59af",
      "metadata": {
        "id": "4e2c59af"
      },
      "source": [
        "### Cross-correlation\n",
        "Calculate the cross-correlation between all pairs of signals and plot the result for lag values between [-10, 10] using a stem plot. Use the function [np.correlate(x,y)](https://numpy.org/doc/stable/reference/generated/numpy.correlate.html) to calculate the cross-correlation between the signals x and y."
      ]
    },
    {
      "cell_type": "markdown",
      "id": "4624568d",
      "metadata": {
        "id": "4624568d"
      },
      "source": [
        "<div class=\"alert alert-info\">\n",
        "\n",
        "**Question:** How do you interpret the cross-correlation results? Can you deduct a directional relationship between the signals?"
      ]
    },
    {
      "cell_type": "markdown",
      "id": "88c7133d",
      "metadata": {
        "id": "88c7133d"
      },
      "source": [
        "<div class=\"alert alert-success\">\n",
        "<span style=\"color:black\">\n",
        "\n",
        "**Answer:**\n",
        "\n",
        "Insert your answer here...\n",
        "    \n",
        "</span>"
      ]
    },
    {
      "cell_type": "code",
      "execution_count": 24,
      "id": "0a9b8b5e",
      "metadata": {
        "id": "0a9b8b5e",
        "colab": {
          "base_uri": "https://localhost:8080/",
          "height": 885
        },
        "outputId": "f551a985-cfeb-4d9c-dd56-a0d579e07a07"
      },
      "outputs": [
        {
          "output_type": "stream",
          "name": "stderr",
          "text": [
            "<ipython-input-24-2308a866dff2>:11: UserWarning: In Matplotlib 3.3 individual lines on a stem plot will be added as a LineCollection instead of individual lines. This significantly improves the performance of a stem plot. To remove this warning and switch to the new behaviour, set the \"use_line_collection\" keyword argument to True.\n",
            "  plt.stem(np.arange(-10, 10, 1),correl_12[middle-10:middle+10])\n"
          ]
        },
        {
          "output_type": "display_data",
          "data": {
            "text/plain": [
              "<Figure size 432x288 with 1 Axes>"
            ],
            "image/png": "[encoded data removed]"
          },
          "metadata": {
            "needs_background": "light"
          }
        },
        {
          "output_type": "stream",
          "name": "stderr",
          "text": [
            "<ipython-input-24-2308a866dff2>:14: UserWarning: In Matplotlib 3.3 individual lines on a stem plot will be added as a LineCollection instead of individual lines. This significantly improves the performance of a stem plot. To remove this warning and switch to the new behaviour, set the \"use_line_collection\" keyword argument to True.\n",
            "  plt.stem(np.arange(-10, 10, 1),correl_13[middle-10:middle+10])\n"
          ]
        },
        {
          "output_type": "display_data",
          "data": {
            "text/plain": [
              "<Figure size 432x288 with 1 Axes>"
            ],
            "image/png": "[encoded data removed]"
          },
          "metadata": {
            "needs_background": "light"
          }
        },
        {
          "output_type": "stream",
          "name": "stderr",
          "text": [
            "<ipython-input-24-2308a866dff2>:17: UserWarning: In Matplotlib 3.3 individual lines on a stem plot will be added as a LineCollection instead of individual lines. This significantly improves the performance of a stem plot. To remove this warning and switch to the new behaviour, set the \"use_line_collection\" keyword argument to True.\n",
            "  plt.stem(np.arange(-10, 10, 1),correl_23[middle-10:middle+10])\n"
          ]
        },
        {
          "output_type": "display_data",
          "data": {
            "text/plain": [
              "<Figure size 432x288 with 1 Axes>"
            ],
            "image/png": "[encoded data removed]"
          },
          "metadata": {
            "needs_background": "light"
          }
        }
      ],
      "source": [
        "correl_12 = np.correlate(sig_1, sig_2, mode='full')\n",
        "correl_13 = np.correlate(sig_1, sig_3, mode='full')\n",
        "correl_23 = np.correlate(sig_2, sig_3, mode='full')\n",
        "\n",
        "middle = len(correl_12) // 2\n",
        "\n",
        "plt.stem(np.arange(-10, 10, 1),correl_12[middle-10:middle+10])\n",
        "plt.show()\n",
        "\n",
        "plt.stem(np.arange(-10, 10, 1),correl_13[middle-10:middle+10])\n",
        "plt.show()\n",
        "\n",
        "plt.stem(np.arange(-10, 10, 1),correl_23[middle-10:middle+10])\n",
        "plt.show()"
      ]
    },
    {
      "cell_type": "markdown",
      "id": "217ab9cc",
      "metadata": {
        "id": "217ab9cc"
      },
      "source": [
        "### Granger-causality index\n",
        "Investigate the Granger causality index (GCI) between the signals. The function calculates the autoregressive model between the signals in the matrix sig with a model order equal to p. The autoregressive model is defined as follows, with A(m) the coefficients, E(n) the residuals and X(n) the signal:\n",
        "\n",
        "$$ X(n) = \\sum_{m=1}^{p} A(m)X(n-m) + E(n) $$\n",
        "\n",
        "Study the GCI between the signals with model order p=5. You need to implement the GCI yourself based on the functions *AR_univariate* and *AR_bivariate* and the formula of the GCI from signal y to signal x:\n",
        "\n",
        "$$ GCI_{xy} = ln\\left(\\frac{V_{x|x}}{V_{x|xy}}\\right) $$\n",
        "\n",
        "where $V_{x|x}$ is the variance of the residual in the univariate case and $V_{x|xy}$ is the variance of the residual in te bivariate model.\n",
        "\n",
        ">*Note: The functions AR_univariate and AR_bivariate output two variables: A and res. A is a (p x K x K) matrix with the AR coefficients. res is the reflection matrix, which contains the standard deviation of the prediction errors.*"
      ]
    },
    {
      "cell_type": "markdown",
      "id": "0d0bdcea",
      "metadata": {
        "id": "0d0bdcea"
      },
      "source": [
        "<div class=\"alert alert-info\">\n",
        "\n",
        "**Question:** What can you conclude about the connectivity pattern between the signals?\n",
        "    \n",
        "What happens if you decrease the model order to 2 or increase it to 10? Insert the corresponding GCI values in the table below."
      ]
    },
    {
      "cell_type": "markdown",
      "id": "8eb894c7",
      "metadata": {
        "id": "8eb894c7"
      },
      "source": [
        "<div class=\"alert alert-success\">\n",
        "<span style=\"color:black\">\n",
        "\n",
        "**Answer:**\n",
        "\n",
        "Insert your answer here...\n",
        "    \n",
        "|               | p = 2| p = 5| p = 10|\n",
        "|:-----------------|:-----------|:-----------|:------|\n",
        "| $GCI_{1,1}$ |   |   |   |\n",
        "| $GCI_{1,2}$ |   |   |   |\n",
        "| $GCI_{1,3}$ |   |   |   |\n",
        "| $GCI_{2,1}$ |   |   |   |\n",
        "| $GCI_{2,2}$ |   |   |   |\n",
        "| $GCI_{2,3}$ |   |   |   |\n",
        "| $GCI_{3,1}$ |   |   |   |\n",
        "| $GCI_{3,2}$ |   |   |   |\n",
        "| $GCI_{3,3}$ |   |   |   |\n",
        "    \n",
        "</span>"
      ]
    },
    {
      "cell_type": "code",
      "execution_count": 29,
      "id": "4b101442",
      "metadata": {
        "id": "4b101442"
      },
      "outputs": [],
      "source": [
        "# x = signal\n",
        "# p = order of the model\n",
        "# fs = sample frequency -> 200 Hz\n",
        "\n",
        "def AR_univariate(x, p, fs):\n",
        "    data = cp.Data(np.expand_dims(x, axis=0), fs)\n",
        "    data.fit_mvar(p, 'yw')\n",
        "    \n",
        "    A = data.mvarcoef[0]\n",
        "    res = data.mvarcoef[1]\n",
        "    return A, res\n",
        "\n",
        "def AR_bivariate(x, y, p, fs):\n",
        "    data = np.vstack([x, y])\n",
        "    data = cp.Data(data, fs)\n",
        "    data.fit_mvar(p, 'yw')\n",
        "    \n",
        "    A = data.mvarcoef[0]\n",
        "    res = data.mvarcoef[1]\n",
        "    return A, res"
      ]
    },
    {
      "cell_type": "code",
      "execution_count": 46,
      "id": "85b381db",
      "metadata": {
        "id": "85b381db",
        "colab": {
          "base_uri": "https://localhost:8080/"
        },
        "outputId": "57375eb4-6b54-4a44-856b-415d5eaf10d6"
      },
      "outputs": [
        {
          "output_type": "stream",
          "name": "stdout",
          "text": [
            "\n",
            "GCI sig_1 sig_1 p=2: 0\n",
            "GCI sig_1 sig_1 p=5: 0\n",
            "GCI sig_1 sig_1 p=10: 0\n",
            "\n",
            "\n",
            "GCI sig_1 sig_2 p=2: [[1.41807828]]\n",
            "GCI sig_1 sig_2 p=5: [[1.42695187]]\n",
            "GCI sig_1 sig_2 p=10: [[1.42975353]]\n",
            "\n",
            "\n",
            "GCI sig_1 sig_3 p=2: [[1.98447221]]\n",
            "GCI sig_1 sig_3 p=5: [[2.77825908]]\n",
            "GCI sig_1 sig_3 p=10: [[2.77612897]]\n",
            "\n",
            "\n",
            "GCI sig_2 sig_1 p=2: [[1.41984831]]\n",
            "GCI sig_2 sig_1 p=5: [[1.41834647]]\n",
            "GCI sig_2 sig_1 p=10: [[1.43286382]]\n",
            "\n",
            "\n",
            "GCI sig_2 sig_2 p=2: 0\n",
            "GCI sig_2 sig_2 p=5: 0\n",
            "GCI sig_2 sig_2 p=10: 0\n",
            "\n",
            "\n",
            "GCI sig_2 sig_3 p=2: [[2.00341316]]\n",
            "GCI sig_2 sig_3 p=5: [[2.00301844]]\n",
            "GCI sig_2 sig_3 p=10: [[2.02036509]]\n",
            "\n",
            "\n",
            "GCI sig_3 sig_1 p=2: [[0.59983499]]\n",
            "GCI sig_3 sig_1 p=5: [[1.3896047]]\n",
            "GCI sig_3 sig_1 p=10: [[1.39702395]]\n",
            "\n",
            "\n",
            "GCI sig_3 sig_2 p=2: [[0.61700591]]\n",
            "GCI sig_3 sig_2 p=5: [[0.62296946]]\n",
            "GCI sig_3 sig_2 p=10: [[0.63814978]]\n",
            "\n",
            "\n",
            "GCI sig_3 sig_3 p=2: 0\n",
            "GCI sig_3 sig_3 p=5: 0\n",
            "GCI sig_3 sig_3 p=10: 0\n",
            "\n"
          ]
        },
        {
          "output_type": "stream",
          "name": "stderr",
          "text": [
            "/usr/local/lib/python3.8/dist-packages/connectivipy/mvar/fitting.py:267: FutureWarning: arrays to stack must be passed as a \"sequence\" type such as list or tuple. Support for non-sequence iterables such as generators is deprecated as of NumPy 1.16 and will raise an error in the future.\n",
            "  req = np.vstack(rr_b[:, :, x].T for x in range(1, pmax+1))\n"
          ]
        }
      ],
      "source": [
        "def GCI(x, y, order, fs):\n",
        "  variance_xx = (AR_univariate(x, order, fs)[1]) ** 2\n",
        "  \n",
        "  if (x == y).all(): # if it's the same signal, then return 0\n",
        "    return 0\n",
        "  else: # if it's not the same signal get the mean of the std matrix and square it to get the variance\n",
        "    variance_xy = (AR_bivariate(x, y, order, fs)[1]).mean() ** 2\n",
        "\n",
        "  return np.log(variance_xx / variance_xy)\n",
        "  \n",
        "\n",
        "GCI_sig1_sig1 = [GCI(sig_1, sig_1, 2, 200), GCI(sig_1, sig_1, 5, 200), GCI(sig_1, sig_1, 10, 200)]\n",
        "GCI_sig1_sig2 = [GCI(sig_1, sig_2, 2, 200), GCI(sig_1, sig_2, 5, 200), GCI(sig_1, sig_2, 10, 200)]\n",
        "GCI_sig1_sig3 = [GCI(sig_1, sig_3, 2, 200), GCI(sig_1, sig_3, 5, 200), GCI(sig_1, sig_3, 10, 200)]\n",
        "GCI_sig2_sig1 = [GCI(sig_2, sig_1, 2, 200), GCI(sig_2, sig_1, 5, 200), GCI(sig_2, sig_1, 10, 200)]\n",
        "GCI_sig2_sig2 = [GCI(sig_2, sig_2, 2, 200), GCI(sig_2, sig_2, 5, 200), GCI(sig_2, sig_2, 10, 200)]\n",
        "GCI_sig2_sig3 = [GCI(sig_2, sig_3, 2, 200), GCI(sig_2, sig_3, 5, 200), GCI(sig_2, sig_3, 10, 200)]\n",
        "GCI_sig3_sig1 = [GCI(sig_3, sig_1, 2, 200), GCI(sig_3, sig_1, 5, 200), GCI(sig_3, sig_1, 10, 200)]\n",
        "GCI_sig3_sig2 = [GCI(sig_3, sig_2, 2, 200), GCI(sig_3, sig_2, 5, 200), GCI(sig_3, sig_2, 10, 200)]\n",
        "GCI_sig3_sig3 = [GCI(sig_3, sig_3, 2, 200), GCI(sig_3, sig_3, 5, 200), GCI(sig_3, sig_3, 10, 200)]\n",
        "\n",
        "\n",
        "print(f\"\\nGCI sig_1 sig_1 p=2: {GCI_sig1_sig1[0]}\\nGCI sig_1 sig_1 p=5: {GCI_sig1_sig1[1]}\\nGCI sig_1 sig_1 p=10: {GCI_sig1_sig1[2]}\\n\")\n",
        "print(f\"\\nGCI sig_1 sig_2 p=2: {GCI_sig1_sig2[0]}\\nGCI sig_1 sig_2 p=5: {GCI_sig1_sig2[1]}\\nGCI sig_1 sig_2 p=10: {GCI_sig1_sig2[2]}\\n\")\n",
        "print(f\"\\nGCI sig_1 sig_3 p=2: {GCI_sig1_sig3[0]}\\nGCI sig_1 sig_3 p=5: {GCI_sig1_sig3[1]}\\nGCI sig_1 sig_3 p=10: {GCI_sig1_sig3[2]}\\n\")\n",
        "print(f\"\\nGCI sig_2 sig_1 p=2: {GCI_sig2_sig1[0]}\\nGCI sig_2 sig_1 p=5: {GCI_sig2_sig1[1]}\\nGCI sig_2 sig_1 p=10: {GCI_sig2_sig1[2]}\\n\")\n",
        "print(f\"\\nGCI sig_2 sig_2 p=2: {GCI_sig2_sig2[0]}\\nGCI sig_2 sig_2 p=5: {GCI_sig2_sig2[1]}\\nGCI sig_2 sig_2 p=10: {GCI_sig2_sig2[2]}\\n\")\n",
        "print(f\"\\nGCI sig_2 sig_3 p=2: {GCI_sig2_sig3[0]}\\nGCI sig_2 sig_3 p=5: {GCI_sig2_sig3[1]}\\nGCI sig_2 sig_3 p=10: {GCI_sig2_sig3[2]}\\n\")\n",
        "print(f\"\\nGCI sig_3 sig_1 p=2: {GCI_sig3_sig1[0]}\\nGCI sig_3 sig_1 p=5: {GCI_sig3_sig1[1]}\\nGCI sig_3 sig_1 p=10: {GCI_sig3_sig1[2]}\\n\")\n",
        "print(f\"\\nGCI sig_3 sig_2 p=2: {GCI_sig3_sig2[0]}\\nGCI sig_3 sig_2 p=5: {GCI_sig3_sig2[1]}\\nGCI sig_3 sig_2 p=10: {GCI_sig3_sig2[2]}\\n\")\n",
        "print(f\"\\nGCI sig_3 sig_3 p=2: {GCI_sig3_sig3[0]}\\nGCI sig_3 sig_3 p=5: {GCI_sig3_sig3[1]}\\nGCI sig_3 sig_3 p=10: {GCI_sig3_sig3[2]}\\n\")"
      ]
    },
    {
      "cell_type": "markdown",
      "id": "ca29e93f",
      "metadata": {
        "id": "ca29e93f"
      },
      "source": [
        "***\n",
        "## Part 2/2: Localization of the epileptic focus from intracranial EEG recordings\n",
        "During the presurgical evaluation a patient was implanted with 2 depth electrodes, each with 12 contacts, into the amygdala and hippocampus. We consider only 4 electrode contacts from each depth electrode: 2 in the left and right amygdala (LA1-2 and RA1-2) and 2 contacts in the left and right hippocampus (LH1-2 and RH1-2). The signals of a recorded seizure can be found in sig_ex2.txt. The variable sig contains following signals: RH1, RH2, RA1, RA2, LH1, LH2, LA1, LA2. The intracranial EEG is recorded with a sampling frequency of 256 Hz. The variable sig contains 5s of seizure. Can you localize where the seizure originated from based on functional connectivity?\n",
        "\n",
        "<img src='https://drive.google.com/uc?export=view&id=1EjYAnx4hpY-LgiHWNpH0cfd7ysCUJyBb' style=\"width: 500px;\">\n",
        "\n",
        "\n",
        "Again let's start with loading and plotting the measured time series."
      ]
    },
    {
      "cell_type": "markdown",
      "id": "8980164e",
      "metadata": {
        "id": "8980164e"
      },
      "source": [
        "<div class=\"alert alert-info\">\n",
        "\n",
        "**Question:** What do you notice in the signals?"
      ]
    },
    {
      "cell_type": "markdown",
      "id": "1f71d031",
      "metadata": {
        "id": "1f71d031"
      },
      "source": [
        "<div class=\"alert alert-success\">\n",
        "<span style=\"color:black\">\n",
        "\n",
        "**Answer:**\n",
        "\n",
        "Insert your answer here...\n",
        "    \n",
        "</span>"
      ]
    },
    {
      "cell_type": "code",
      "execution_count": null,
      "id": "1ddc0bcc",
      "metadata": {
        "id": "1ddc0bcc"
      },
      "outputs": [],
      "source": [
        "sig = np.loadtxt('sig_ex2.txt', delimiter=',')\n",
        "t = np.arange(0.0, 5.0, 1/256)\n",
        "labels = [\"RH1\", \"RH2\", \"RA1\", \"RA2\", \"LH1\", \"LH2\", \"LA1\", \"LA2\"]\n",
        "\n",
        "plt.figure(figsize=(12, 8))\n",
        "plot_EEG(t, sig, labels=labels)"
      ]
    },
    {
      "cell_type": "markdown",
      "id": "83510e65",
      "metadata": {
        "id": "83510e65"
      },
      "source": [
        "#### Coherence\n",
        "Study the coherence between the signals. You can use the function [coherence(x,y,fs)](https://docs.scipy.org/doc/scipy/reference/generated/scipy.signal.coherence.html) to calculate the coherence between the signals x and y. Make a matrix COH in which the coherence values of all pairwise combination of channels are stored. COH has the following dimensions: K x K x frequency_point, with K the number of signals (in our case K=8). Use the function plot_COH(COH, freq, labels) to visualize the coherence."
      ]
    },
    {
      "cell_type": "markdown",
      "id": "25dafa6e",
      "metadata": {
        "id": "25dafa6e"
      },
      "source": [
        "<div class=\"alert alert-info\">\n",
        "\n",
        "**Question:** What can you observe?"
      ]
    },
    {
      "cell_type": "markdown",
      "id": "0f6314f9",
      "metadata": {
        "id": "0f6314f9"
      },
      "source": [
        "<div class=\"alert alert-success\">\n",
        "<span style=\"color:black\">\n",
        "\n",
        "**Answer:**\n",
        "\n",
        "Insert your answer here...\n",
        "    \n",
        "</span>"
      ]
    },
    {
      "cell_type": "code",
      "execution_count": null,
      "id": "206582cf",
      "metadata": {
        "id": "206582cf"
      },
      "outputs": [],
      "source": [
        "def plot_COH(COH, freq, labels):\n",
        "    n_sig = np.shape(COH)[0]\n",
        "    \n",
        "    fig, axs = plt.subplots(n_sig, n_sig, sharex='col', sharey='row', figsize=(15, 15))\n",
        "    for i in range(n_sig):\n",
        "        for j in range(n_sig):\n",
        "            axs[i,j].fill_between(freq, COH[i,j,:])\n",
        "            axs[i,j].set_title('{} -> {}'.format(labels[i], labels[j]))"
      ]
    },
    {
      "cell_type": "markdown",
      "id": "d697f089",
      "metadata": {
        "id": "d697f089"
      },
      "source": [
        "#### Directed Transfer Function\n",
        "Implement the Directed Transfer Function (DTF) based on the coefficients that you can obtain with the function AutoReg. The coefficient matrix (A) has dimensions K x K x p and is ordered as follows: [from (i), to (j), m=1..p]. Implement the DTF so it has following dimensions [K (from which channel), K (to which channel), nr_frequency_points] with K being the number of signals (in our case K=8). You can use p equal to 10. The implementation can be done as follows:\n",
        "\n",
        "1. Calculate the autoregressive coefficients based on the function AR_multivariate with order p=10.\n",
        "2. Calculate for each frequency f=0:0.1:30, A(f) with dimensions equal to K x K x nr_frequency_points.\n",
        "*Note: be sure to write j to obtain the imaginary number*\n",
        "3. Invert the A(f) matrix to obtain H(f) at each frequency.\n",
        "4. Calculate the DTF based on the H(f) matrix using the following formula:\n",
        "\n",
        "$$ DTF_{ij} = \\frac{|H_{ij}(f)|^2}{\\sum_{k=1}^{K}|H_{ik}(f)|^2}$$\n",
        "\n",
        "In this equation, $H_{ij}$ is the information flow from j to i by definition.\n",
        "\n",
        "What do you obseve? You can use the function plot_DTF(DTF, freq, labels) to visualize the result of the DTF. Which region is the generator of the seizure?"
      ]
    },
    {
      "cell_type": "markdown",
      "id": "90e8a64a",
      "metadata": {
        "id": "90e8a64a"
      },
      "source": [
        "<div class=\"alert alert-info\">\n",
        "\n",
        "**Question:** What do you observe? You can use the function plot_DTF(DTF, freq, labels) to visualize the result of the DTF. Which region is the generator of the seizure?"
      ]
    },
    {
      "cell_type": "markdown",
      "id": "c81cd137",
      "metadata": {
        "id": "c81cd137"
      },
      "source": [
        "<div class=\"alert alert-success\">\n",
        "<span style=\"color:black\">\n",
        "\n",
        "**Answer:**\n",
        "\n",
        "Insert your answer here...\n",
        "    \n",
        "</span>"
      ]
    },
    {
      "cell_type": "code",
      "execution_count": null,
      "id": "66081168",
      "metadata": {
        "id": "66081168"
      },
      "outputs": [],
      "source": [
        "def AR_multivariate(x, p, fs):\n",
        "    data = np.transpose(x)\n",
        "    data = cp.Data(data, fs)\n",
        "    data.fit_mvar(p, 'yw')\n",
        "    \n",
        "    A = data.mvarcoef[0]\n",
        "    res = data.mvarcoef[1]\n",
        "    return A, res"
      ]
    }
  ],
  "metadata": {
    "colab": {
      "provenance": [],
      "include_colab_link": true
    },
    "kernelspec": {
      "display_name": "Python 3 (ipykernel)",
      "language": "python",
      "name": "python3"
    },
    "language_info": {
      "codemirror_mode": {
        "name": "ipython",
        "version": 3
      },
      "file_extension": ".py",
      "mimetype": "text/x-python",
      "name": "python",
      "nbconvert_exporter": "python",
      "pygments_lexer": "ipython3",
      "version": "3.10.6"
    }
  },
  "nbformat": 4,
  "nbformat_minor": 5
}